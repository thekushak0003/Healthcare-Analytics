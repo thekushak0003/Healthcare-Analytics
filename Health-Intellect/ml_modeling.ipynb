{
 "cells": [
  {
   "cell_type": "code",
   "execution_count": 26,
   "id": "9eb6e8f2",
   "metadata": {},
   "outputs": [],
   "source": [
    "import numpy as np \n",
    "import pandas as pd \n",
    "import seaborn as sns \n",
    "import matplotlib.pyplot as plt \n",
    "from sklearn.model_selection import train_test_split\n",
    "from sklearn.preprocessing import OneHotEncoder\n",
    "from sklearn.linear_model import LogisticRegression\n",
    "from sklearn.ensemble import RandomForestClassifier\n",
    "from sklearn.preprocessing import StandardScaler\n",
    "from sklearn.decomposition import PCA\n",
    "from lightgbm import LGBMClassifier\n",
    "from sklearn.metrics import accuracy_score, precision_score, recall_score, f1_score, roc_auc_score, confusion_matrix, classification_report\n",
    "import xgboost as xgb\n",
    "import shap\n",
    "import joblib\n",
    "from scipy.stats import chi2_contingency, ttest_ind"
   ]
  },
  {
   "cell_type": "code",
   "execution_count": 27,
   "id": "110b7b0d",
   "metadata": {},
   "outputs": [],
   "source": [
    "df=pd.read_csv('final_dataset.csv')"
   ]
  },
  {
   "cell_type": "code",
   "execution_count": 28,
   "id": "655423df",
   "metadata": {},
   "outputs": [
    {
     "data": {
      "application/vnd.microsoft.datawrangler.viewer.v0+json": {
       "columns": [
        {
         "name": "index",
         "rawType": "int64",
         "type": "integer"
        },
        {
         "name": "Diabetes_binary",
         "rawType": "float64",
         "type": "float"
        },
        {
         "name": "HighBP",
         "rawType": "float64",
         "type": "float"
        },
        {
         "name": "HighChol",
         "rawType": "float64",
         "type": "float"
        },
        {
         "name": "CholCheck",
         "rawType": "float64",
         "type": "float"
        },
        {
         "name": "BMI",
         "rawType": "float64",
         "type": "float"
        },
        {
         "name": "Smoker",
         "rawType": "float64",
         "type": "float"
        },
        {
         "name": "Stroke",
         "rawType": "float64",
         "type": "float"
        },
        {
         "name": "HeartDiseaseorAttack",
         "rawType": "float64",
         "type": "float"
        },
        {
         "name": "PhysActivity",
         "rawType": "float64",
         "type": "float"
        },
        {
         "name": "Fruits",
         "rawType": "float64",
         "type": "float"
        },
        {
         "name": "Veggies",
         "rawType": "float64",
         "type": "float"
        },
        {
         "name": "HvyAlcoholConsump",
         "rawType": "float64",
         "type": "float"
        },
        {
         "name": "AnyHealthcare",
         "rawType": "float64",
         "type": "float"
        },
        {
         "name": "NoDocbcCost",
         "rawType": "float64",
         "type": "float"
        },
        {
         "name": "GenHlth",
         "rawType": "float64",
         "type": "float"
        },
        {
         "name": "MentHlth",
         "rawType": "float64",
         "type": "float"
        },
        {
         "name": "PhysHlth",
         "rawType": "float64",
         "type": "float"
        },
        {
         "name": "DiffWalk",
         "rawType": "float64",
         "type": "float"
        },
        {
         "name": "Sex",
         "rawType": "float64",
         "type": "float"
        },
        {
         "name": "Age",
         "rawType": "float64",
         "type": "float"
        },
        {
         "name": "Education",
         "rawType": "float64",
         "type": "float"
        },
        {
         "name": "Income",
         "rawType": "float64",
         "type": "float"
        },
        {
         "name": "UnhealthyDays",
         "rawType": "float64",
         "type": "float"
        },
        {
         "name": "HealthScore",
         "rawType": "float64",
         "type": "float"
        }
       ],
       "ref": "da2de02d-35f4-4d14-8f24-5f913c900cf4",
       "rows": [
        [
         "0",
         "0.0",
         "1.0",
         "1.0",
         "1.0",
         "40.0",
         "1.0",
         "0.0",
         "0.0",
         "0.0",
         "0.0",
         "1.0",
         "0.0",
         "1.0",
         "0.0",
         "5.0",
         "18.0",
         "15.0",
         "1.0",
         "0.0",
         "9.0",
         "4.0",
         "3.0",
         "33.0",
         "4.0"
        ],
        [
         "1",
         "0.0",
         "0.0",
         "0.0",
         "0.0",
         "25.0",
         "1.0",
         "0.0",
         "0.0",
         "1.0",
         "0.0",
         "0.0",
         "0.0",
         "0.0",
         "1.0",
         "3.0",
         "0.0",
         "0.0",
         "0.0",
         "0.0",
         "7.0",
         "6.0",
         "1.0",
         "0.0",
         "1.0"
        ],
        [
         "2",
         "0.0",
         "1.0",
         "1.0",
         "1.0",
         "28.0",
         "0.0",
         "0.0",
         "0.0",
         "0.0",
         "1.0",
         "0.0",
         "0.0",
         "1.0",
         "1.0",
         "5.0",
         "30.0",
         "30.0",
         "1.0",
         "0.0",
         "9.0",
         "4.0",
         "8.0",
         "60.0",
         "3.0"
        ],
        [
         "3",
         "0.0",
         "1.0",
         "0.0",
         "1.0",
         "27.0",
         "0.0",
         "0.0",
         "0.0",
         "1.0",
         "1.0",
         "1.0",
         "0.0",
         "1.0",
         "0.0",
         "2.0",
         "0.0",
         "0.0",
         "0.0",
         "0.0",
         "11.0",
         "3.0",
         "6.0",
         "0.0",
         "1.0"
        ],
        [
         "4",
         "0.0",
         "1.0",
         "1.0",
         "1.0",
         "24.0",
         "0.0",
         "0.0",
         "0.0",
         "1.0",
         "1.0",
         "1.0",
         "0.0",
         "1.0",
         "0.0",
         "2.0",
         "3.0",
         "0.0",
         "0.0",
         "0.0",
         "11.0",
         "5.0",
         "4.0",
         "3.0",
         "2.0"
        ]
       ],
       "shape": {
        "columns": 24,
        "rows": 5
       }
      },
      "text/html": [
       "<div>\n",
       "<style scoped>\n",
       "    .dataframe tbody tr th:only-of-type {\n",
       "        vertical-align: middle;\n",
       "    }\n",
       "\n",
       "    .dataframe tbody tr th {\n",
       "        vertical-align: top;\n",
       "    }\n",
       "\n",
       "    .dataframe thead th {\n",
       "        text-align: right;\n",
       "    }\n",
       "</style>\n",
       "<table border=\"1\" class=\"dataframe\">\n",
       "  <thead>\n",
       "    <tr style=\"text-align: right;\">\n",
       "      <th></th>\n",
       "      <th>Diabetes_binary</th>\n",
       "      <th>HighBP</th>\n",
       "      <th>HighChol</th>\n",
       "      <th>CholCheck</th>\n",
       "      <th>BMI</th>\n",
       "      <th>Smoker</th>\n",
       "      <th>Stroke</th>\n",
       "      <th>HeartDiseaseorAttack</th>\n",
       "      <th>PhysActivity</th>\n",
       "      <th>Fruits</th>\n",
       "      <th>...</th>\n",
       "      <th>GenHlth</th>\n",
       "      <th>MentHlth</th>\n",
       "      <th>PhysHlth</th>\n",
       "      <th>DiffWalk</th>\n",
       "      <th>Sex</th>\n",
       "      <th>Age</th>\n",
       "      <th>Education</th>\n",
       "      <th>Income</th>\n",
       "      <th>UnhealthyDays</th>\n",
       "      <th>HealthScore</th>\n",
       "    </tr>\n",
       "  </thead>\n",
       "  <tbody>\n",
       "    <tr>\n",
       "      <th>0</th>\n",
       "      <td>0.0</td>\n",
       "      <td>1.0</td>\n",
       "      <td>1.0</td>\n",
       "      <td>1.0</td>\n",
       "      <td>40.0</td>\n",
       "      <td>1.0</td>\n",
       "      <td>0.0</td>\n",
       "      <td>0.0</td>\n",
       "      <td>0.0</td>\n",
       "      <td>0.0</td>\n",
       "      <td>...</td>\n",
       "      <td>5.0</td>\n",
       "      <td>18.0</td>\n",
       "      <td>15.0</td>\n",
       "      <td>1.0</td>\n",
       "      <td>0.0</td>\n",
       "      <td>9.0</td>\n",
       "      <td>4.0</td>\n",
       "      <td>3.0</td>\n",
       "      <td>33.0</td>\n",
       "      <td>4.0</td>\n",
       "    </tr>\n",
       "    <tr>\n",
       "      <th>1</th>\n",
       "      <td>0.0</td>\n",
       "      <td>0.0</td>\n",
       "      <td>0.0</td>\n",
       "      <td>0.0</td>\n",
       "      <td>25.0</td>\n",
       "      <td>1.0</td>\n",
       "      <td>0.0</td>\n",
       "      <td>0.0</td>\n",
       "      <td>1.0</td>\n",
       "      <td>0.0</td>\n",
       "      <td>...</td>\n",
       "      <td>3.0</td>\n",
       "      <td>0.0</td>\n",
       "      <td>0.0</td>\n",
       "      <td>0.0</td>\n",
       "      <td>0.0</td>\n",
       "      <td>7.0</td>\n",
       "      <td>6.0</td>\n",
       "      <td>1.0</td>\n",
       "      <td>0.0</td>\n",
       "      <td>1.0</td>\n",
       "    </tr>\n",
       "    <tr>\n",
       "      <th>2</th>\n",
       "      <td>0.0</td>\n",
       "      <td>1.0</td>\n",
       "      <td>1.0</td>\n",
       "      <td>1.0</td>\n",
       "      <td>28.0</td>\n",
       "      <td>0.0</td>\n",
       "      <td>0.0</td>\n",
       "      <td>0.0</td>\n",
       "      <td>0.0</td>\n",
       "      <td>1.0</td>\n",
       "      <td>...</td>\n",
       "      <td>5.0</td>\n",
       "      <td>30.0</td>\n",
       "      <td>30.0</td>\n",
       "      <td>1.0</td>\n",
       "      <td>0.0</td>\n",
       "      <td>9.0</td>\n",
       "      <td>4.0</td>\n",
       "      <td>8.0</td>\n",
       "      <td>60.0</td>\n",
       "      <td>3.0</td>\n",
       "    </tr>\n",
       "    <tr>\n",
       "      <th>3</th>\n",
       "      <td>0.0</td>\n",
       "      <td>1.0</td>\n",
       "      <td>0.0</td>\n",
       "      <td>1.0</td>\n",
       "      <td>27.0</td>\n",
       "      <td>0.0</td>\n",
       "      <td>0.0</td>\n",
       "      <td>0.0</td>\n",
       "      <td>1.0</td>\n",
       "      <td>1.0</td>\n",
       "      <td>...</td>\n",
       "      <td>2.0</td>\n",
       "      <td>0.0</td>\n",
       "      <td>0.0</td>\n",
       "      <td>0.0</td>\n",
       "      <td>0.0</td>\n",
       "      <td>11.0</td>\n",
       "      <td>3.0</td>\n",
       "      <td>6.0</td>\n",
       "      <td>0.0</td>\n",
       "      <td>1.0</td>\n",
       "    </tr>\n",
       "    <tr>\n",
       "      <th>4</th>\n",
       "      <td>0.0</td>\n",
       "      <td>1.0</td>\n",
       "      <td>1.0</td>\n",
       "      <td>1.0</td>\n",
       "      <td>24.0</td>\n",
       "      <td>0.0</td>\n",
       "      <td>0.0</td>\n",
       "      <td>0.0</td>\n",
       "      <td>1.0</td>\n",
       "      <td>1.0</td>\n",
       "      <td>...</td>\n",
       "      <td>2.0</td>\n",
       "      <td>3.0</td>\n",
       "      <td>0.0</td>\n",
       "      <td>0.0</td>\n",
       "      <td>0.0</td>\n",
       "      <td>11.0</td>\n",
       "      <td>5.0</td>\n",
       "      <td>4.0</td>\n",
       "      <td>3.0</td>\n",
       "      <td>2.0</td>\n",
       "    </tr>\n",
       "  </tbody>\n",
       "</table>\n",
       "<p>5 rows × 24 columns</p>\n",
       "</div>"
      ],
      "text/plain": [
       "   Diabetes_binary  HighBP  HighChol  CholCheck   BMI  Smoker  Stroke  \\\n",
       "0              0.0     1.0       1.0        1.0  40.0     1.0     0.0   \n",
       "1              0.0     0.0       0.0        0.0  25.0     1.0     0.0   \n",
       "2              0.0     1.0       1.0        1.0  28.0     0.0     0.0   \n",
       "3              0.0     1.0       0.0        1.0  27.0     0.0     0.0   \n",
       "4              0.0     1.0       1.0        1.0  24.0     0.0     0.0   \n",
       "\n",
       "   HeartDiseaseorAttack  PhysActivity  Fruits  ...  GenHlth  MentHlth  \\\n",
       "0                   0.0           0.0     0.0  ...      5.0      18.0   \n",
       "1                   0.0           1.0     0.0  ...      3.0       0.0   \n",
       "2                   0.0           0.0     1.0  ...      5.0      30.0   \n",
       "3                   0.0           1.0     1.0  ...      2.0       0.0   \n",
       "4                   0.0           1.0     1.0  ...      2.0       3.0   \n",
       "\n",
       "   PhysHlth  DiffWalk  Sex   Age  Education  Income  UnhealthyDays  \\\n",
       "0      15.0       1.0  0.0   9.0        4.0     3.0           33.0   \n",
       "1       0.0       0.0  0.0   7.0        6.0     1.0            0.0   \n",
       "2      30.0       1.0  0.0   9.0        4.0     8.0           60.0   \n",
       "3       0.0       0.0  0.0  11.0        3.0     6.0            0.0   \n",
       "4       0.0       0.0  0.0  11.0        5.0     4.0            3.0   \n",
       "\n",
       "   HealthScore  \n",
       "0          4.0  \n",
       "1          1.0  \n",
       "2          3.0  \n",
       "3          1.0  \n",
       "4          2.0  \n",
       "\n",
       "[5 rows x 24 columns]"
      ]
     },
     "execution_count": 28,
     "metadata": {},
     "output_type": "execute_result"
    }
   ],
   "source": [
    "df.drop('BMICategory',axis=1,inplace=True)\n",
    "df.head(5)"
   ]
  },
  {
   "cell_type": "code",
   "execution_count": 29,
   "id": "0b4bfcf6",
   "metadata": {},
   "outputs": [
    {
     "name": "stdout",
     "output_type": "stream",
     "text": [
      "Data split successfully:\n",
      "X_train shape:(202944, 23)\n",
      "X_test shape:(50736, 23)\n",
      "\n",
      "Features scaled successfully.\n"
     ]
    }
   ],
   "source": [
    "X=df.drop('Diabetes_binary',axis=1)\n",
    "y=df['Diabetes_binary']\n",
    "\n",
    "X_train,X_test,y_train,y_test=train_test_split(X,y,test_size=0.2,random_state=42,stratify=y)\n",
    "print(f\"Data split successfully:\")\n",
    "print(f\"X_train shape:{X_train.shape}\")\n",
    "print(f\"X_test shape:{X_test.shape}\")\n",
    "\n",
    "scaler=StandardScaler()\n",
    "X_train_scaled=scaler.fit_transform(X_train)\n",
    "X_test_scaled=scaler.transform(X_test)\n",
    "\n",
    "print(\"\\nFeatures scaled successfully.\")"
   ]
  },
  {
   "cell_type": "markdown",
   "id": "420df259",
   "metadata": {},
   "source": [
    "##### Choosing the Best ML Algorithm\n",
    "\n",
    "There is no single \"best\" algorithm for every problem. The standard approach, and what we'll do here, is to train several strong candidate models and compare their performance on our specific dataset. For this binary classification task with tabular data, our candidates are:\n",
    "\n",
    "1.  **Logistic Regression:** A fantastic, interpretable baseline model. It provides a great starting point.\n",
    "2.  **Random Forest:** An ensemble of decision trees. It's robust, handles non-linear relationships well (which our EDA suggested), and is less prone to overfitting than a single decision tree.\n",
    "3.  **LightGBM (LGBM) Classifier:** A high-performance gradient boosting framework. It's known for its speed and accuracy and often wins Kaggle competitions on tabular data.\n",
    "\n",
    "**Handling Class Imbalance:** We'll use the `class_weight='balanced'` parameter for Logistic Regression and Random Forest, and `is_unbalance=True` for LightGBM. This tells the algorithms to pay more attention to the minority class (diabetes cases), which is exactly what we want."
   ]
  },
  {
   "cell_type": "code",
   "execution_count": 32,
   "id": "4bddaad5",
   "metadata": {},
   "outputs": [
    {
     "name": "stdout",
     "output_type": "stream",
     "text": [
      "--- Training Logistic Regression ---\n",
      "\n",
      "--- Logistic Regression Classification Report ---\n",
      "              precision    recall  f1-score   support\n",
      "\n",
      "         0.0       0.95      0.73      0.82     43667\n",
      "         1.0       0.31      0.76      0.44      7069\n",
      "\n",
      "    accuracy                           0.73     50736\n",
      "   macro avg       0.63      0.74      0.63     50736\n",
      "weighted avg       0.86      0.73      0.77     50736\n",
      "\n"
     ]
    },
    {
     "data": {
      "image/png": "[encoded data removed]",
      "text/plain": [
       "<Figure size 800x600 with 2 Axes>"
      ]
     },
     "metadata": {},
     "output_type": "display_data"
    },
    {
     "name": "stdout",
     "output_type": "stream",
     "text": [
      "--- Training Random Forest ---\n",
      "\n",
      "--- Random Forest Classification Report ---\n",
      "              precision    recall  f1-score   support\n",
      "\n",
      "         0.0       0.88      0.97      0.92     43667\n",
      "         1.0       0.46      0.16      0.24      7069\n",
      "\n",
      "    accuracy                           0.86     50736\n",
      "   macro avg       0.67      0.57      0.58     50736\n",
      "weighted avg       0.82      0.86      0.83     50736\n",
      "\n"
     ]
    },
    {
     "data": {
      "image/png": "[encoded data removed]",
      "text/plain": [
       "<Figure size 800x600 with 2 Axes>"
      ]
     },
     "metadata": {},
     "output_type": "display_data"
    },
    {
     "name": "stdout",
     "output_type": "stream",
     "text": [
      "--- Training LightGBM ---\n",
      "[LightGBM] [Info] Number of positive: 28277, number of negative: 174667\n",
      "[LightGBM] [Info] Auto-choosing row-wise multi-threading, the overhead of testing was 0.007727 seconds.\n",
      "You can set `force_row_wise=true` to remove the overhead.\n",
      "And if memory is not enough, you can set `force_col_wise=true`.\n",
      "[LightGBM] [Info] Total Bins 287\n",
      "[LightGBM] [Info] Number of data points in the train set: 202944, number of used features: 23\n",
      "[LightGBM] [Info] [binary:BoostFromScore]: pavg=0.139334 -> initscore=-1.820833\n",
      "[LightGBM] [Info] Start training from score -1.820833\n"
     ]
    },
    {
     "name": "stderr",
     "output_type": "stream",
     "text": [
      "c:\\Users\\mahes\\anaconda3\\Lib\\site-packages\\sklearn\\utils\\validation.py:2749: UserWarning: X does not have valid feature names, but LGBMClassifier was fitted with feature names\n",
      "  warnings.warn(\n",
      "c:\\Users\\mahes\\anaconda3\\Lib\\site-packages\\sklearn\\utils\\validation.py:2749: UserWarning: X does not have valid feature names, but LGBMClassifier was fitted with feature names\n",
      "  warnings.warn(\n"
     ]
    },
    {
     "name": "stdout",
     "output_type": "stream",
     "text": [
      "\n",
      "--- LightGBM Classification Report ---\n",
      "              precision    recall  f1-score   support\n",
      "\n",
      "         0.0       0.96      0.70      0.81     43667\n",
      "         1.0       0.30      0.80      0.44      7069\n",
      "\n",
      "    accuracy                           0.72     50736\n",
      "   macro avg       0.63      0.75      0.63     50736\n",
      "weighted avg       0.86      0.72      0.76     50736\n",
      "\n"
     ]
    },
    {
     "data": {
      "image/png": "[encoded data removed]",
      "text/plain": [
       "<Figure size 800x600 with 2 Axes>"
      ]
     },
     "metadata": {},
     "output_type": "display_data"
    }
   ],
   "source": [
    "from sklearn.pipeline import Pipeline\n",
    "\n",
    "models = {\n",
    "    \"Logistic Regression\":LogisticRegression(class_weight='balanced',random_state=42,max_iter=1000),\n",
    "    \"Random Forest\":RandomForestClassifier(class_weight='balanced',random_state=42),\n",
    "    \"LightGBM\":LGBMClassifier(is_unbalance=True, random_state=42)\n",
    "}\n",
    "\n",
    "results = {}\n",
    "\n",
    "for name, model in models.items():\n",
    "    print(f\"--- Training {name} ---\")\n",
    "\n",
    "    # Use scaler as the preprocessor\n",
    "    pipeline = Pipeline(steps=[\n",
    "        ('preprocessor', scaler),\n",
    "        ('classifier', model)\n",
    "    ])\n",
    "\n",
    "    pipeline.fit(X_train, y_train)\n",
    "\n",
    "    y_pred = pipeline.predict(X_test)\n",
    "    y_pred_proba = pipeline.predict_proba(X_test)[:,1] \n",
    "\n",
    "    accuracy = accuracy_score(y_test,y_pred)\n",
    "    precision = precision_score(y_test,y_pred)\n",
    "    recall = recall_score(y_test,y_pred)\n",
    "    f1 = f1_score(y_test, y_pred)\n",
    "    roc_auc = roc_auc_score(y_test,y_pred_proba)\n",
    "\n",
    "    results[name] = {\n",
    "        'Accuracy': accuracy,\n",
    "        'Precision': precision,\n",
    "        'Recall': recall,\n",
    "        'F1-Score': f1,\n",
    "        'ROC-AUC': roc_auc\n",
    "    }\n",
    "\n",
    "    print(f\"\\n--- {name} Classification Report ---\")\n",
    "    print(classification_report(y_test,y_pred))\n",
    "\n",
    "    plt.figure(figsize=(8,6))\n",
    "    cm = confusion_matrix(y_test,y_pred)\n",
    "    sns.heatmap(cm, annot=True,fmt='d',cmap='Blues', \n",
    "                xticklabels=['No Diabetes','Diabetes'], \n",
    "                yticklabels=['No Diabetes','Diabetes'])\n",
    "    plt.title(f'{name} Confusion Matrix',fontsize=16)\n",
    "    plt.xlabel('Predicted Label')\n",
    "    plt.ylabel('True Label')\n",
    "    plt.show()"
   ]
  },
  {
   "cell_type": "code",
   "execution_count": 34,
   "id": "6aa98170",
   "metadata": {},
   "outputs": [
    {
     "name": "stdout",
     "output_type": "stream",
     "text": [
      "--- Model Performance Comparison ---\n"
     ]
    },
    {
     "data": {
      "application/vnd.microsoft.datawrangler.viewer.v0+json": {
       "columns": [
        {
         "name": "index",
         "rawType": "object",
         "type": "string"
        },
        {
         "name": "Accuracy",
         "rawType": "float64",
         "type": "float"
        },
        {
         "name": "Precision",
         "rawType": "float64",
         "type": "float"
        },
        {
         "name": "Recall",
         "rawType": "float64",
         "type": "float"
        },
        {
         "name": "F1-Score",
         "rawType": "float64",
         "type": "float"
        },
        {
         "name": "ROC-AUC",
         "rawType": "float64",
         "type": "float"
        }
       ],
       "ref": "82e11765-1e70-4d1b-beea-dd538cb32fa3",
       "rows": [
        [
         "LightGBM",
         "0.7168282876064334",
         "0.3035002692514809",
         "0.7972839156882161",
         "0.4396427317758103",
         "0.826670222062138"
        ],
        [
         "Logistic Regression",
         "0.731571270892463",
         "0.31080300404390526",
         "0.7610694581977648",
         "0.4413634685590057",
         "0.8196293407083185"
        ],
        [
         "Random Forest",
         "0.8571625670135604",
         "0.46379170056956875",
         "0.1612675060121658",
         "0.23931982785766767",
         "0.7891742953881055"
        ]
       ],
       "shape": {
        "columns": 5,
        "rows": 3
       }
      },
      "text/html": [
       "<div>\n",
       "<style scoped>\n",
       "    .dataframe tbody tr th:only-of-type {\n",
       "        vertical-align: middle;\n",
       "    }\n",
       "\n",
       "    .dataframe tbody tr th {\n",
       "        vertical-align: top;\n",
       "    }\n",
       "\n",
       "    .dataframe thead th {\n",
       "        text-align: right;\n",
       "    }\n",
       "</style>\n",
       "<table border=\"1\" class=\"dataframe\">\n",
       "  <thead>\n",
       "    <tr style=\"text-align: right;\">\n",
       "      <th></th>\n",
       "      <th>Accuracy</th>\n",
       "      <th>Precision</th>\n",
       "      <th>Recall</th>\n",
       "      <th>F1-Score</th>\n",
       "      <th>ROC-AUC</th>\n",
       "    </tr>\n",
       "  </thead>\n",
       "  <tbody>\n",
       "    <tr>\n",
       "      <th>LightGBM</th>\n",
       "      <td>0.716828</td>\n",
       "      <td>0.303500</td>\n",
       "      <td>0.797284</td>\n",
       "      <td>0.439643</td>\n",
       "      <td>0.826670</td>\n",
       "    </tr>\n",
       "    <tr>\n",
       "      <th>Logistic Regression</th>\n",
       "      <td>0.731571</td>\n",
       "      <td>0.310803</td>\n",
       "      <td>0.761069</td>\n",
       "      <td>0.441363</td>\n",
       "      <td>0.819629</td>\n",
       "    </tr>\n",
       "    <tr>\n",
       "      <th>Random Forest</th>\n",
       "      <td>0.857163</td>\n",
       "      <td>0.463792</td>\n",
       "      <td>0.161268</td>\n",
       "      <td>0.239320</td>\n",
       "      <td>0.789174</td>\n",
       "    </tr>\n",
       "  </tbody>\n",
       "</table>\n",
       "</div>"
      ],
      "text/plain": [
       "                     Accuracy  Precision    Recall  F1-Score   ROC-AUC\n",
       "LightGBM             0.716828   0.303500  0.797284  0.439643  0.826670\n",
       "Logistic Regression  0.731571   0.310803  0.761069  0.441363  0.819629\n",
       "Random Forest        0.857163   0.463792  0.161268  0.239320  0.789174"
      ]
     },
     "metadata": {},
     "output_type": "display_data"
    }
   ],
   "source": [
    "results_df = pd.DataFrame(results).T\n",
    "results_df = results_df.sort_values(by=['ROC-AUC', 'Recall'], ascending=False)\n",
    "\n",
    "print(\"--- Model Performance Comparison ---\")\n",
    "display(results_df)"
   ]
  },
  {
   "cell_type": "markdown",
   "id": "655b41c9",
   "metadata": {},
   "source": [
    "### Hyperparameter Tuning with RandomizedSearchCV\n",
    "\n",
    "Now that we've selected LightGBM as our best model, we'll fine-tune its hyperparameters. This process systematically searches for the optimal model settings to potentially boost performance even further. We use `RandomizedSearchCV` because it's more efficient than searching every single combination (`GridSearchCV`)."
   ]
  },
  {
   "cell_type": "code",
   "execution_count": 35,
   "id": "342b4d9a",
   "metadata": {},
   "outputs": [
    {
     "name": "stdout",
     "output_type": "stream",
     "text": [
      "Fitting 3 folds for each of 25 candidates, totalling 75 fits\n",
      "[LightGBM] [Info] Number of positive: 28277, number of negative: 174667\n",
      "[LightGBM] [Info] Auto-choosing row-wise multi-threading, the overhead of testing was 0.005845 seconds.\n",
      "You can set `force_row_wise=true` to remove the overhead.\n",
      "And if memory is not enough, you can set `force_col_wise=true`.\n",
      "[LightGBM] [Info] Total Bins 287\n",
      "[LightGBM] [Info] Number of data points in the train set: 202944, number of used features: 23\n",
      "[LightGBM] [Info] [binary:BoostFromScore]: pavg=0.139334 -> initscore=-1.820833\n",
      "[LightGBM] [Info] Start training from score -1.820833\n",
      "\n",
      "--- Hyperparameter Tuning Results ---\n",
      "Best Parameters Found: {'learning_rate': 0.052515587449124476, 'max_depth': 10, 'n_estimators': 205, 'num_leaves': 23, 'reg_alpha': 0.18485445552552704, 'reg_lambda': 0.9695846277645586}\n",
      "Best ROC-AUC Score from Search: 0.8307\n"
     ]
    }
   ],
   "source": [
    "from sklearn.model_selection import RandomizedSearchCV\n",
    "from scipy.stats import randint, uniform\n",
    "\n",
    "# Define the hyperparameter space to search\n",
    "param_dist = {\n",
    "    'n_estimators': randint(100, 500),\n",
    "    'learning_rate': uniform(0.01, 0.1),\n",
    "    'num_leaves': randint(20, 50),\n",
    "    'max_depth': [-1, 10, 20, 30],\n",
    "    'reg_alpha': uniform(0,1), # L1 regularization\n",
    "    'reg_lambda': uniform(0,1) # L2 regularization\n",
    "}\n",
    "\n",
    "# Initialize the best model (LightGBM)\n",
    "lgbm = LGBMClassifier(is_unbalance=True, random_state=42)\n",
    "\n",
    "# Set up RandomizedSearchCV\n",
    "random_search = RandomizedSearchCV(\n",
    "    lgbm, \n",
    "    param_distributions=param_dist, \n",
    "    n_iter=25, \n",
    "    cv=3, \n",
    "    scoring='roc_auc', \n",
    "    random_state=42, \n",
    "    n_jobs=-1, # Using all available CPU cores\n",
    "    verbose=1\n",
    ")\n",
    "\n",
    "# Fit the search to our scaled training data\n",
    "random_search.fit(X_train_scaled, y_train)\n",
    "\n",
    "print(\"\\n--- Hyperparameter Tuning Results ---\")\n",
    "print(f\"Best Parameters Found: {random_search.best_params_}\")\n",
    "print(f\"Best ROC-AUC Score from Search: {random_search.best_score_:.4f}\")\n",
    "\n",
    "best_tuned_model = random_search.best_estimator_"
   ]
  },
  {
   "cell_type": "markdown",
   "id": "77680cb5",
   "metadata": {},
   "source": [
    "#### Feature Importance Analysis\n",
    "\n",
    "Now that we have a highly optimized model, let's understand *what* it learned. Feature importance tells us which health indicators the model relied on most heavily to make its predictions. This is a critical step for translating our model's performance into real-world, actionable insights."
   ]
  },
  {
   "cell_type": "code",
   "execution_count": 38,
   "id": "549dc62d",
   "metadata": {},
   "outputs": [
    {
     "name": "stdout",
     "output_type": "stream",
     "text": [
      "--- Top 10 Least Important Features ---\n"
     ]
    },
    {
     "data": {
      "application/vnd.microsoft.datawrangler.viewer.v0+json": {
       "columns": [
        {
         "name": "index",
         "rawType": "int64",
         "type": "integer"
        },
        {
         "name": "feature",
         "rawType": "object",
         "type": "string"
        },
        {
         "name": "importance",
         "rawType": "int32",
         "type": "integer"
        }
       ],
       "ref": "54b557a0-421b-4bea-bc23-603061062197",
       "rows": [
        [
         "4",
         "Smoker",
         "106"
        ],
        [
         "0",
         "HighBP",
         "90"
        ],
        [
         "8",
         "Fruits",
         "70"
        ],
        [
         "9",
         "Veggies",
         "65"
        ],
        [
         "6",
         "HeartDiseaseorAttack",
         "64"
        ],
        [
         "7",
         "PhysActivity",
         "51"
        ],
        [
         "16",
         "DiffWalk",
         "47"
        ],
        [
         "12",
         "NoDocbcCost",
         "36"
        ],
        [
         "11",
         "AnyHealthcare",
         "33"
        ],
        [
         "5",
         "Stroke",
         "30"
        ]
       ],
       "shape": {
        "columns": 2,
        "rows": 10
       }
      },
      "text/html": [
       "<div>\n",
       "<style scoped>\n",
       "    .dataframe tbody tr th:only-of-type {\n",
       "        vertical-align: middle;\n",
       "    }\n",
       "\n",
       "    .dataframe tbody tr th {\n",
       "        vertical-align: top;\n",
       "    }\n",
       "\n",
       "    .dataframe thead th {\n",
       "        text-align: right;\n",
       "    }\n",
       "</style>\n",
       "<table border=\"1\" class=\"dataframe\">\n",
       "  <thead>\n",
       "    <tr style=\"text-align: right;\">\n",
       "      <th></th>\n",
       "      <th>feature</th>\n",
       "      <th>importance</th>\n",
       "    </tr>\n",
       "  </thead>\n",
       "  <tbody>\n",
       "    <tr>\n",
       "      <th>4</th>\n",
       "      <td>Smoker</td>\n",
       "      <td>106</td>\n",
       "    </tr>\n",
       "    <tr>\n",
       "      <th>0</th>\n",
       "      <td>HighBP</td>\n",
       "      <td>90</td>\n",
       "    </tr>\n",
       "    <tr>\n",
       "      <th>8</th>\n",
       "      <td>Fruits</td>\n",
       "      <td>70</td>\n",
       "    </tr>\n",
       "    <tr>\n",
       "      <th>9</th>\n",
       "      <td>Veggies</td>\n",
       "      <td>65</td>\n",
       "    </tr>\n",
       "    <tr>\n",
       "      <th>6</th>\n",
       "      <td>HeartDiseaseorAttack</td>\n",
       "      <td>64</td>\n",
       "    </tr>\n",
       "    <tr>\n",
       "      <th>7</th>\n",
       "      <td>PhysActivity</td>\n",
       "      <td>51</td>\n",
       "    </tr>\n",
       "    <tr>\n",
       "      <th>16</th>\n",
       "      <td>DiffWalk</td>\n",
       "      <td>47</td>\n",
       "    </tr>\n",
       "    <tr>\n",
       "      <th>12</th>\n",
       "      <td>NoDocbcCost</td>\n",
       "      <td>36</td>\n",
       "    </tr>\n",
       "    <tr>\n",
       "      <th>11</th>\n",
       "      <td>AnyHealthcare</td>\n",
       "      <td>33</td>\n",
       "    </tr>\n",
       "    <tr>\n",
       "      <th>5</th>\n",
       "      <td>Stroke</td>\n",
       "      <td>30</td>\n",
       "    </tr>\n",
       "  </tbody>\n",
       "</table>\n",
       "</div>"
      ],
      "text/plain": [
       "                 feature  importance\n",
       "4                 Smoker         106\n",
       "0                 HighBP          90\n",
       "8                 Fruits          70\n",
       "9                Veggies          65\n",
       "6   HeartDiseaseorAttack          64\n",
       "7           PhysActivity          51\n",
       "16              DiffWalk          47\n",
       "12           NoDocbcCost          36\n",
       "11         AnyHealthcare          33\n",
       "5                 Stroke          30"
      ]
     },
     "metadata": {},
     "output_type": "display_data"
    },
    {
     "data": {
      "image/png": "[encoded data removed]",
      "text/plain": [
       "<Figure size 1200x800 with 1 Axes>"
      ]
     },
     "metadata": {},
     "output_type": "display_data"
    }
   ],
   "source": [
    "# Extract feature importances from the best tuned model\n",
    "feature_importances = pd.DataFrame({\n",
    "    'feature': X_train.columns,\n",
    "    'importance': best_tuned_model.feature_importances_\n",
    "}).sort_values('importance', ascending=False)\n",
    "\n",
    "# Display the top 10 features\n",
    "print(\"--- Top 10 Least Important Features ---\")\n",
    "display(feature_importances.tail(10))\n",
    "\n",
    "# Visualize the feature importances\n",
    "plt.figure(figsize=(12, 8))\n",
    "sns.barplot(x='importance',y='feature',data=feature_importances.head(10), \n",
    "            palette='viridis',hue='importance',legend=False)\n",
    "plt.title('Top 10 Feature Importances from Tuned LightGBM Model',fontsize=16)\n",
    "plt.xlabel('Importance Score')\n",
    "plt.ylabel('Feature')\n",
    "plt.show()"
   ]
  },
  {
   "cell_type": "markdown",
   "id": "e406ec99",
   "metadata": {},
   "source": [
    "### Saving our ML Model"
   ]
  },
  {
   "cell_type": "code",
   "execution_count": 40,
   "id": "171edc21",
   "metadata": {},
   "outputs": [
    {
     "name": "stdout",
     "output_type": "stream",
     "text": [
      "Final tuned model ('final_diabetes_model.pkl') and scaler have been saved!\n"
     ]
    }
   ],
   "source": [
    "# Save the final, tuned model\n",
    "joblib.dump(best_tuned_model, 'final_diabetes_model.pkl')\n",
    "\n",
    "# We re-use the same scaler from before\n",
    "joblib.dump(scaler, 'scaler.pkl')\n",
    "\n",
    "print(\"Final tuned model ('final_diabetes_model.pkl') and scaler have been saved!\")"
   ]
  },
  {
   "cell_type": "code",
   "execution_count": null,
   "id": "bacb1031",
   "metadata": {},
   "outputs": [],
   "source": []
  }
 ],
 "metadata": {
  "kernelspec": {
   "display_name": "base",
   "language": "python",
   "name": "python3"
  },
  "language_info": {
   "codemirror_mode": {
    "name": "ipython",
    "version": 3
   },
   "file_extension": ".py",
   "mimetype": "text/x-python",
   "name": "python",
   "nbconvert_exporter": "python",
   "pygments_lexer": "ipython3",
   "version": "3.12.4"
  }
 },
 "nbformat": 4,
 "nbformat_minor": 5
}
